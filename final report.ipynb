{
 "cells": [
  {
   "cell_type": "markdown",
   "metadata": {},
   "source": [
    "Car Accident Severity"
   ]
  },
  {
   "cell_type": "raw",
   "metadata": {},
   "source": [
    "PROBLEM:\n",
    "    This document presents the development of a prediction model fed with a car accident registry from an open data shared by the Seattle government. The objective of the resulting model is to, based on the weather and road conditions, warn about the possibilities of being involved in a car accident and how severe it could be."
   ]
  },
  {
   "cell_type": "markdown",
   "metadata": {},
   "source": [
    "UNDERSTANDING INTO DEEP:"
   ]
  },
  {
   "cell_type": "markdown",
   "metadata": {},
   "source": [
    "The government of Seattle has a registry of automobile accidents[1] that have occurred since 2004, and is interested in obtaining insights or applying some type of measure to inform its drivers of the dangers that exist when driving. According to WHO[2] (World Healt Organization) the yearly fatalities caused by a road traffic crash is around 1.35 million, and almost 3,700 every day. This projects main focus is to analize the data, for any relevant information that may help then understanding of the topic and the creation of a model that can predict the risk and level of severity of an accident."
   ]
  },
  {
   "cell_type": "markdown",
   "metadata": {},
   "source": [
    "### Data understanding:\n",
    "The data used in this report includes all types of collisions. Collisions were provided by SPD and recorded by Traffic Records. The dataset contains 221,525 rows and 40 columns, this is the raw data and may differ later on due to data cleaning.\n",
    "The dependent variable in this set is named \"SEVERITYCODE\",and its value refers to the possible outcomes:\n",
    "<br>• 3—fatality <br>• 2b—serious injury <br>• 2—injury <br>• 1—prop damage <br>• 0—unknown \n",
    "\n",
    "The data set is summarized as shown in the following table (Extracted from the attribute information document[3]):\n",
    "\n",
    "| Attribute           | Data type, length | Description                                                                                                                                        |\n",
    "|---------------------|-------------------|----------------------------------------------------------------------------------------------------------------------------------------------------|\n",
    "| OBJECTID            | ObjectID          | ESRI unique identifier                                                                                                                             |\n",
    "| SHAPE               | Geometry          | ESRI geometry field                                                                                                                                |\n",
    "| INCKEY              | Long              | A unique key for the incident                                                                                                                      |\n",
    "| COLDETKEY           | Long              | Secondary key for the incident                                                                                                                     |\n",
    "| ADDRTYPE            | Text, 12          | Collision address type:     <br>•Alley <br>•Block <br>• Intersection                                                                                                                       |\n",
    "| INTKEY              | Double            | Key that corresponds to the intersection associated with a collision                                                                               |\n",
    "| LOCATION            | Text, 255         | Description of the general location of the collision                                                                                               |\n",
    "| EXCEPTRSNCODE       | Text, 10          |                                                                                                                                                    |\n",
    "| EXCEPTRSNDESC       | Text, 300         |                                                                                                                                                    |\n",
    "| SEVERITYCODE        | Text, 100         | A code that corresponds to the severity of the collision:    <br>• 3—fatality <br>• 2b—serious injury <br>• 2—injury <br>• 1—prop damage <br>• 0—unknown                                                                                     |\n",
    "| SEVERITYDESC        | Text              | A detailed description of the severity of the collision                                                                                            |\n",
    "| COLLISIONTYPE       | Text, 300         | Collision type                                                                                                                                     |\n",
    "| PERSONCOUNT         | Double            | The total number of people involved in the collision                                                                                               |\n",
    "| PEDCOUNT            | Double            | The number of pedestrians involved in the collision. This is entered by the state.                                                                 |\n",
    "| PEDCYLCOUNT         | Double            | The number of bicycles involved in the collision. This is entered by the state.                                                                    |\n",
    "| VEHCOUNT            | Double            | The number of vehicles involved in the collision. This is entered by the state.                                                                    |\n",
    "| INJURIES            | Double            | The number of total injuries in the collision. This is entered by the state.                                                                       |\n",
    "| SERIOUSINJURIES     | Double            | The number of serious injuries in the collision. This is entered by the state.                                                                     |\n",
    "| FATALITIES          | Double            | The number of fatalities in the collision. This is entered by the state.                                                                           |\n",
    "| INCDATE             | Date              | The date of the incident.                                                                                                                          |\n",
    "| INCDTTM             | Text, 30          | The date and time of the incident.                                                                                                                 |\n",
    "| JUNCTIONTYPE        | Text, 300         | Category of junction at which collision took place                                                                                                 |\n",
    "| SDOT_COLCODE        | Text, 10          | A code given to the collision by SDOT.                                                                                                             |\n",
    "| SDOT_COLDESC        | Text, 300         | A description of the collision corresponding to the collision code.                                                                                |\n",
    "| INATTENTIONIND      | Text, 1           | Whether or not collision was due to inattention. (Y/N)                                                                                             |\n",
    "| UNDERINFL           | Text, 10          | Whether or not a driver involved was under the influence of drugs or alcohol.                                                                      |\n",
    "| WEATHER             | Text, 300         | A description of the weather conditions during the time of the collision.                                                                          |\n",
    "| ROADCOND            | Text, 300         | The condition of the road during the collision.                                                                                                    |\n",
    "| LIGHTCOND           | Text, 300         | The light conditions during the collision.                                                                                                         |\n",
    "| PEDROWNOTGRNT       | Text, 1           | Whether or not the pedestrian right of way was not granted. (Y/N)                                                                                  |\n",
    "| SDOTCOLNUM          | Text, 10          | A number given to the collision by SDOT.                                                                                                           |\n",
    "| SPEEDING            | Text, 1           | Whether or not speeding was a factor in the collision. (Y/N)                                                                                       |\n",
    "| ST_COLCODE          | Text, 10          | A code provided by the state that describes the collision. For more information about these codes, please see the State Collision Code Dictionary. |\n",
    "| ST_COLDESC          | Text, 300         | A description that corresponds to the state’s coding designation.                                                                                  |\n",
    "| SEGLANEKEY          | Long              | A key for the lane segment in which the collision occurred.                                                                                        |\n",
    "| CROSSWALKKEY        | Long              | A key for the crosswalk at which the collision occurred.                                                                                           |\n",
    "| HITPARKEDCAR        | Text, 1           | Whether or not the collision involved hitting a parked car. (Y/N)                                                                                  |\n",
    "\n",
    "<!-- In this phase, you need to collect or extract the dataset from various sources such as csv file or SQL database. Then, you need to determine the attributes (columns) that you will use to train your machine learning model. Also, you will assess the condition of chosen attributes by looking for trends, certain patterns, skewed information, correlations, and so on. -->\n"
   ]
  },
  {
   "cell_type": "markdown",
   "metadata": {},
   "source": [
    "### Acknoledgements\n",
    "1 Collisions. Seattle GeoData. \n",
    "https://data-seattlecitygis.opendata.arcgis.com/datasets/5b5c745e0f1f48e7a53acec63a0022ab_0\n",
    "Last Accesed 9/19/2021\n",
    "\n",
    "2 GLOBAL STATUS REPORT ON ROAD SAFETY 2018. World Health Organization. https://www.who.int/publications/i/item/global-status-report-on-road-safety-2018 ISBN: 9789241565684\n",
    "\n",
    "3 Collisions Data Set Summary. Seattle GeoData. \n",
    "https://www.seattle.gov/Documents/Departments/SDOT/GIS/Collisions_OD.pdf\n",
    "Last Accesed 9/19/2021"
   ]
  },
  {
   "cell_type": "code",
   "execution_count": null,
   "metadata": {},
   "outputs": [],
   "source": []
  }
 ],
 "metadata": {
  "kernelspec": {
   "display_name": "Python 3",
   "language": "python",
   "name": "python3"
  },
  "language_info": {
   "codemirror_mode": {
    "name": "ipython",
    "version": 3
   },
   "file_extension": ".py",
   "mimetype": "text/x-python",
   "name": "python",
   "nbconvert_exporter": "python",
   "pygments_lexer": "ipython3",
   "version": "3.7.4"
  }
 },
 "nbformat": 4,
 "nbformat_minor": 2
}
